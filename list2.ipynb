{
  "nbformat": 4,
  "nbformat_minor": 0,
  "metadata": {
    "kernelspec": {
      "display_name": "Python [Root]",
      "language": "python",
      "name": "Python [Root]"
    },
    "language_info": {
      "codemirror_mode": {
        "name": "ipython",
        "version": 2
      },
      "file_extension": ".py",
      "mimetype": "text/x-python",
      "name": "python",
      "nbconvert_exporter": "python",
      "pygments_lexer": "ipython2",
      "version": "2.7.12"
    },
    "colab": {
      "name": "list2.ipynb",
      "provenance": [],
      "include_colab_link": true
    }
  },
  "cells": [
    {
      "cell_type": "markdown",
      "metadata": {
        "id": "view-in-github",
        "colab_type": "text"
      },
      "source": [
        "<a href=\"https://colab.research.google.com/github/shaheerhas/turbo-memory/blob/master/list2.ipynb\" target=\"_parent\"><img src=\"https://colab.research.google.com/assets/colab-badge.svg\" alt=\"Open In Colab\"/></a>"
      ]
    },
    {
      "cell_type": "code",
      "metadata": {
        "id": "4So6v_jz3df6",
        "colab_type": "code",
        "outputId": "1d4a4a24-8583-4c33-9e2e-1d8010eb2330",
        "colab": {
          "base_uri": "https://localhost:8080/",
          "height": 34
        }
      },
      "source": [
        "# In[1]:\n",
        "# D. Given a list of numbers, return a list where\n",
        "# all adjacent == elements have been reduced to a single element,\n",
        "# so [1, 2, 2, 3] returns [1, 2, 3]. You may create a new list or\n",
        "# modify the passed in list.\n",
        "def remove_adjacent(nums):\n",
        "  # +++your code here+++\n",
        "  i=0\n",
        "  l = len(nums)\n",
        "  while i<l:\n",
        "    temp=nums[i]\n",
        "    i+=1\n",
        "    count=0 #to count the # of pops\n",
        "    while i<l and nums[i] == temp:\n",
        "      nums.pop(i)\n",
        "      count+=1\n",
        "      #i+=1\n",
        "      l-=1\n",
        "    i=i-count\n",
        "    \n",
        "  return nums\n",
        "print (remove_adjacent([1,2,2,2,3,3,3,4,4,4,4]))\n"
      ],
      "execution_count": 0,
      "outputs": [
        {
          "output_type": "stream",
          "text": [
            "[1, 2, 3, 4]\n"
          ],
          "name": "stdout"
        }
      ]
    },
    {
      "cell_type": "code",
      "metadata": {
        "id": "LJXGRZBC3dgE",
        "colab_type": "code",
        "outputId": "bc0bc33e-b585-4e32-9dfb-b4fd007d7197",
        "colab": {
          "base_uri": "https://localhost:8080/",
          "height": 34
        }
      },
      "source": [
        "# E. Given two lists sorted in increasing order, create and return a merged\n",
        "# list of all the elements in sorted order. You may modify the passed in lists.\n",
        "# Ideally, the solution should work in \"linear\" time, making a single\n",
        "# pass of both lists.\n",
        "def linear_merge(list1, list2):\n",
        "  # +++your code here+++\n",
        "  temp = []\n",
        "  while list1 and list2:\n",
        "    if list1[0]<=list2[0]:\n",
        "      temp.append(list1.pop(0))\n",
        "    else:\n",
        "      temp.append(list2.pop(0))\n",
        "  temp.extend(list1)\n",
        "  temp.extend(list2)\n",
        "  return temp\n",
        "\n",
        "print(linear_merge([\"aa\",\"aa\",\"cc\",\"ee\"],[\"bb\",\"dd\",\"ff\"]))\n"
      ],
      "execution_count": 45,
      "outputs": [
        {
          "output_type": "stream",
          "text": [
            "['aa', 'aa', 'bb', 'cc', 'dd', 'ee', 'ff']\n"
          ],
          "name": "stdout"
        }
      ]
    },
    {
      "cell_type": "code",
      "metadata": {
        "id": "gXnQxc-mcMHM",
        "colab_type": "code",
        "colab": {}
      },
      "source": [
        "temp = []\n",
        "  i=0\n",
        "  j=0\n",
        "  l1 = len(list1)\n",
        "  l2 = len (list2)\n",
        "  while i<l1 or j<l2:\n",
        "    if list1[i]<=list2[j]:\n",
        "      temp.append(list1[i])\n",
        "      temp.append(list2[j])\n",
        "    else:\n",
        "      temp.append(list2[j])\n",
        "      temp.append(list1[i])\n",
        "    if i<l1-1:  \n",
        "      i+=1\n",
        "    if j<l2-1:  \n",
        "      j+=1"
      ],
      "execution_count": 0,
      "outputs": []
    },
    {
      "cell_type": "code",
      "metadata": {
        "id": "WkiY6wtx3dgO",
        "colab_type": "code",
        "colab": {}
      },
      "source": [
        "# Simple provided test() function used in main() to print\n",
        "# what each function returns vs. what it's supposed to return.\n",
        "def test(got, expected):\n",
        "  if got == expected:\n",
        "    prefix = ' OK '\n",
        "  else:\n",
        "    prefix = '  X '\n",
        "  print ('%s got: %s expected: %s' % (prefix, repr(got), repr(expected)))\n",
        "\n"
      ],
      "execution_count": 0,
      "outputs": []
    },
    {
      "cell_type": "code",
      "metadata": {
        "id": "BS3H4mEY3dgR",
        "colab_type": "code",
        "outputId": "46abbd14-2a84-40d0-8ef8-85268bbba570",
        "colab": {
          "base_uri": "https://localhost:8080/",
          "height": 153
        }
      },
      "source": [
        "# Calls the above functions with interesting inputs.\n",
        "print ('remove_adjacent')\n",
        "test(remove_adjacent([1, 2, 2, 3]), [1, 2, 3])\n",
        "test(remove_adjacent([2, 2, 3, 3, 3]), [2, 3])\n",
        "test(remove_adjacent([]), [])\n",
        "\n",
        "print\n",
        "print ('linear_merge')\n",
        "test(linear_merge(['aa', 'xx', 'zz'], ['bb', 'cc']),\n",
        "     ['aa', 'bb', 'cc', 'xx', 'zz'])\n",
        "test(linear_merge(['aa', 'xx'], ['bb', 'cc', 'zz']),\n",
        "     ['aa', 'bb', 'cc', 'xx', 'zz'])\n",
        "test(linear_merge(['aa', 'aa'], ['aa', 'bb', 'bb']),\n",
        "     ['aa', 'aa', 'aa', 'bb', 'bb'])\n"
      ],
      "execution_count": 50,
      "outputs": [
        {
          "output_type": "stream",
          "text": [
            "remove_adjacent\n",
            " OK  got: [1, 2, 3] expected: [1, 2, 3]\n",
            " OK  got: [2, 3] expected: [2, 3]\n",
            " OK  got: [] expected: []\n",
            "linear_merge\n",
            " OK  got: ['aa', 'bb', 'cc', 'xx', 'zz'] expected: ['aa', 'bb', 'cc', 'xx', 'zz']\n",
            " OK  got: ['aa', 'bb', 'cc', 'xx', 'zz'] expected: ['aa', 'bb', 'cc', 'xx', 'zz']\n",
            " OK  got: ['aa', 'aa', 'aa', 'bb', 'bb'] expected: ['aa', 'aa', 'aa', 'bb', 'bb']\n"
          ],
          "name": "stdout"
        }
      ]
    }
  ]
}
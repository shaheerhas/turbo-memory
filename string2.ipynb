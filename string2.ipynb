{
  "nbformat": 4,
  "nbformat_minor": 0,
  "metadata": {
    "kernelspec": {
      "display_name": "Python [Root]",
      "language": "python",
      "name": "Python [Root]"
    },
    "language_info": {
      "codemirror_mode": {
        "name": "ipython",
        "version": 2
      },
      "file_extension": ".py",
      "mimetype": "text/x-python",
      "name": "python",
      "nbconvert_exporter": "python",
      "pygments_lexer": "ipython2",
      "version": "2.7.12"
    },
    "colab": {
      "name": "string2.ipynb",
      "provenance": [],
      "include_colab_link": true
    }
  },
  "cells": [
    {
      "cell_type": "markdown",
      "metadata": {
        "id": "view-in-github",
        "colab_type": "text"
      },
      "source": [
        "<a href=\"https://colab.research.google.com/github/shaheerhas/turbo-memory/blob/master/string2.ipynb\" target=\"_parent\"><img src=\"https://colab.research.google.com/assets/colab-badge.svg\" alt=\"Open In Colab\"/></a>"
      ]
    },
    {
      "cell_type": "code",
      "metadata": {
        "id": "fJ8pnkRbt-61",
        "colab_type": "code",
        "colab": {
          "base_uri": "https://localhost:8080/",
          "height": 34
        },
        "outputId": "8ba7d77d-0d59-4916-fae2-73eaac37e80a"
      },
      "source": [
        "# In[1]:\n",
        "# Additional basic string exercises\n",
        "# D. verbing\n",
        "# Given a string, if its length is at least 3,\n",
        "# add 'ing' to its end.\n",
        "# Unless it already ends in 'ing', in which case\n",
        "# add 'ly' instead.\n",
        "# If the string length is less than 3, leave it unchanged.\n",
        "# Return the resulting string.\n",
        "def verbing(s):\n",
        "  # +++your code here+++\n",
        "  l=len(s)\n",
        "  if l<3:\n",
        "    return s\n",
        "  if s[(l-3):l] == \"ing\":\n",
        "    s+=\"ly\"\n",
        "  else:\n",
        "    s+=\"ing\"    \n",
        "  return s\n",
        "\n",
        "print (verbing(\"\"))"
      ],
      "execution_count": 3,
      "outputs": [
        {
          "output_type": "stream",
          "text": [
            "he\n"
          ],
          "name": "stdout"
        }
      ]
    },
    {
      "cell_type": "code",
      "metadata": {
        "id": "J_IXDs5ut-7D",
        "colab_type": "code",
        "colab": {
          "base_uri": "https://localhost:8080/",
          "height": 34
        },
        "outputId": "f8582287-32d0-4c91-d1d3-f0bd856a67cd"
      },
      "source": [
        "# E. not_bad\n",
        "# Given a string, find the first appearance of the\n",
        "# substring 'not' and 'bad'. If the 'bad' follows\n",
        "# the 'not', replace the whole 'not'...'bad' substring\n",
        "# with 'good'.\n",
        "# Return the resulting string.\n",
        "# So 'This dinner is not that bad!' yields:\n",
        "# This dinner is good!\n",
        "def not_bad(s):\n",
        "  # +++your code here+++\n",
        "  i1 = s.find(\"not\")\n",
        "  i2 = s.find(\"bad\")\n",
        "  s1=\"\"\n",
        "  if i1>0 and i2>0 and i1<i2:\n",
        "    s1 +=s[:i1]\n",
        "    s1+=\"good\" + s[i2+3:]\n",
        "    return s1\n",
        "  else:  \n",
        "    return s\n",
        "print (not_bad(\"This dinner is not that bad!\"))\n"
      ],
      "execution_count": 26,
      "outputs": [
        {
          "output_type": "stream",
          "text": [
            "This dinner is good!\n"
          ],
          "name": "stdout"
        }
      ]
    },
    {
      "cell_type": "code",
      "metadata": {
        "id": "KiogvjYMt-7I",
        "colab_type": "code",
        "colab": {
          "base_uri": "https://localhost:8080/",
          "height": 34
        },
        "outputId": "5627dbbd-2b65-4a95-cf9b-0dfcd45232f4"
      },
      "source": [
        "# F. front_back\n",
        "# Consider dividing a string into two halves.\n",
        "# If the length is even, the front and back halves are the same length.\n",
        "# If the length is odd, we'll say that the extra char goes in the front half.\n",
        "# e.g. 'abcde', the front half is 'abc', the back half 'de'.\n",
        "# Given 2 strings, a and b, return a string of the form\n",
        "#  a-front + b-front + a-back + b-back\n",
        "import math\n",
        "def front_back(a, b):\n",
        "  # +++your code here+++\n",
        "  la=len(a)\n",
        "  lb=len(b)\n",
        "  \n",
        "  af = a[:(math.ceil(la/2))]\n",
        "  ab = a[(math.ceil(la/2)):]\n",
        "  bf = b[:(math.ceil(lb/2))]\n",
        "  bb = b[(math.ceil(lb/2)):] \n",
        "\n",
        "  return af+bf+ab+bb\n",
        " \n",
        "print (front_back(\"abcd\",\"abc\"))"
      ],
      "execution_count": 18,
      "outputs": [
        {
          "output_type": "stream",
          "text": [
            "ababcdc\n"
          ],
          "name": "stdout"
        }
      ]
    },
    {
      "cell_type": "code",
      "metadata": {
        "id": "EH1irkjBt-7P",
        "colab_type": "code",
        "colab": {}
      },
      "source": [
        "# Simple provided test() function used in main() to print\n",
        "# what each function returns vs. what it's supposed to return.\n",
        "def test(got, expected):\n",
        "  if got == expected:\n",
        "    prefix = ' OK '\n",
        "  else:\n",
        "    prefix = '  X '\n",
        "  print ('%s got: %s expected: %s' % (prefix, repr(got), repr(expected)))\n",
        "\n"
      ],
      "execution_count": 0,
      "outputs": []
    },
    {
      "cell_type": "code",
      "metadata": {
        "id": "LQnA6GKrt-7T",
        "colab_type": "code",
        "colab": {
          "base_uri": "https://localhost:8080/",
          "height": 238
        },
        "outputId": "9db064b8-0f18-46d2-d140-fb08537740ed"
      },
      "source": [
        "# main() calls the above functions with interesting inputs,\n",
        "# using the above test() to check if the result is correct or not.\n",
        "print ('verbing')\n",
        "test(verbing('hail'), 'hailing')\n",
        "test(verbing('swiming'), 'swimingly')\n",
        "test(verbing('do'), 'do')\n",
        "\n",
        "print\n",
        "print ('not_bad')\n",
        "test(not_bad('This movie is not so bad'), 'This movie is good')\n",
        "test(not_bad('This dinner is not that bad!'), 'This dinner is good!')\n",
        "test(not_bad('This tea is not hot'), 'This tea is not hot')\n",
        "test(not_bad(\"It's bad yet not\"), \"It's bad yet not\")\n",
        "\n",
        "print\n",
        "print ('front_back')\n",
        "test(front_back('abcd', 'xy'), 'abxcdy')\n",
        "test(front_back('abcde', 'xyz'), 'abcxydez')\n",
        "test(front_back('Kitten', 'Donut'), 'KitDontenut')"
      ],
      "execution_count": 27,
      "outputs": [
        {
          "output_type": "stream",
          "text": [
            "verbing\n",
            " OK  got: 'hailing' expected: 'hailing'\n",
            " OK  got: 'swimingly' expected: 'swimingly'\n",
            " OK  got: 'do' expected: 'do'\n",
            "not_bad\n",
            " OK  got: 'This movie is good' expected: 'This movie is good'\n",
            " OK  got: 'This dinner is good!' expected: 'This dinner is good!'\n",
            " OK  got: 'This tea is not hot' expected: 'This tea is not hot'\n",
            " OK  got: \"It's bad yet not\" expected: \"It's bad yet not\"\n",
            "front_back\n",
            " OK  got: 'abxcdy' expected: 'abxcdy'\n",
            " OK  got: 'abcxydez' expected: 'abcxydez'\n",
            " OK  got: 'KitDontenut' expected: 'KitDontenut'\n"
          ],
          "name": "stdout"
        }
      ]
    }
  ]
}
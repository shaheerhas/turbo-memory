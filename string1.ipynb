{
  "nbformat": 4,
  "nbformat_minor": 0,
  "metadata": {
    "kernelspec": {
      "display_name": "Python [Root]",
      "language": "python",
      "name": "Python [Root]"
    },
    "language_info": {
      "codemirror_mode": {
        "name": "ipython",
        "version": 2
      },
      "file_extension": ".py",
      "mimetype": "text/x-python",
      "name": "python",
      "nbconvert_exporter": "python",
      "pygments_lexer": "ipython2",
      "version": "2.7.12"
    },
    "colab": {
      "name": "string1.ipynb",
      "provenance": [],
      "include_colab_link": true
    }
  },
  "cells": [
    {
      "cell_type": "markdown",
      "metadata": {
        "id": "view-in-github",
        "colab_type": "text"
      },
      "source": [
        "<a href=\"https://colab.research.google.com/github/shaheerhas/turbo-memory/blob/master/string1.ipynb\" target=\"_parent\"><img src=\"https://colab.research.google.com/assets/colab-badge.svg\" alt=\"Open In Colab\"/></a>"
      ]
    },
    {
      "cell_type": "code",
      "metadata": {
        "id": "okCpjdoCn8IZ",
        "colab_type": "code",
        "colab": {}
      },
      "source": [
        "# In[1]:\n",
        "# A. donuts\n",
        "# Given an int count of a number of donuts, return a string\n",
        "# of the form 'Number of donuts: <count>', where <count> is the number\n",
        "# passed in. However, if the count is 10 or more, then use the word 'many'\n",
        "# instead of the actual count.\n",
        "# So donuts(5) returns 'Number of donuts: 5'\n",
        "# and donuts(23) returns 'Number of donuts: many'\n",
        "# Look for string format function\n",
        "def donuts(count):\n",
        "  # +++your code here+++\n",
        "  s = \"Number of donuts: \"\n",
        "  if count>=0 and count<10:\n",
        "    return s + str(count)\n",
        "  elif count>=10:\n",
        "    return s + \"many\"\n",
        "  else :\n",
        "    return \"invalid count\"\n",
        "\n",
        "\n"
      ],
      "execution_count": 0,
      "outputs": []
    },
    {
      "cell_type": "code",
      "metadata": {
        "id": "Ts767OArn8If",
        "colab_type": "code",
        "colab": {
          "base_uri": "https://localhost:8080/",
          "height": 34
        },
        "outputId": "172ca659-66d7-4c31-891f-8f56e074ecdd"
      },
      "source": [
        "# B. both_ends\n",
        "# Given a string s, return a string made of the first 2\n",
        "# and the last 2 chars of the original string,\n",
        "# so 'spring' yields 'spng'. However, if the string length\n",
        "# is less than 2, return instead the empty string.\n",
        "def both_ends(s):\n",
        "  # +++your code here+++\n",
        "  l = len(s)\n",
        "  if l<2:\n",
        "    return \"\"\n",
        "\n",
        "  return s[0]+s[1]+s[l-2]+s[l-1]\n",
        "\n",
        "print (both_ends(\"\"))\n"
      ],
      "execution_count": 25,
      "outputs": [
        {
          "output_type": "stream",
          "text": [
            "\n"
          ],
          "name": "stdout"
        }
      ]
    },
    {
      "cell_type": "code",
      "metadata": {
        "id": "zPQhq5pYn8Ii",
        "colab_type": "code",
        "colab": {
          "base_uri": "https://localhost:8080/",
          "height": 34
        },
        "outputId": "d74ec66b-c11e-452f-cfbb-39e5cdac6d0f"
      },
      "source": [
        "# C. fix_start\n",
        "# Given a string s, return a string\n",
        "# where all occurences of its first char have\n",
        "# been changed to '*', except do not change\n",
        "# the first char itself.\n",
        "# e.g. 'babble' yields 'ba**le'\n",
        "# Assume that the string is length 1 or more.\n",
        "# Hint: s.replace(stra, strb) returns a version of string s\n",
        "# where all instances of stra have been replaced by strb.\n",
        "def fix_start(s):\n",
        "  # +++your code here+++\n",
        "  i=1\n",
        "  c = s[0]\n",
        "  st = s[0]\n",
        "  while i<len(s):\n",
        "    if(s[i]==c):      \n",
        "      st+=\"*\"\n",
        "    else:\n",
        "      st+=s[i]  \n",
        "    i+=1\n",
        "  return st\n",
        "\n",
        "print (fix_start(\"bbasssdsb\"))"
      ],
      "execution_count": 16,
      "outputs": [
        {
          "output_type": "stream",
          "text": [
            "b*asssds*\n"
          ],
          "name": "stdout"
        }
      ]
    },
    {
      "cell_type": "code",
      "metadata": {
        "id": "Lrb8ymETn8Il",
        "colab_type": "code",
        "colab": {
          "base_uri": "https://localhost:8080/",
          "height": 34
        },
        "outputId": "f061e7ed-0a71-415f-cba9-ee4b0b017ada"
      },
      "source": [
        "# D. MixUp\n",
        "# Given strings a and b, return a single string with a and b separated\n",
        "# by a space '<a> <b>', except swap the first 2 chars of each string.\n",
        "# e.g.\n",
        "#   'mix', pod' -> 'pox mid'\n",
        "#   'dog', 'dinner' -> 'dig donner'\n",
        "# Assume a and b are length 2 or more.\n",
        "def mix_up(a, b):\n",
        "  # +++your code here+++\n",
        "  if len(a)<2 or len(b)<2:\n",
        "    return \"invalid length\"\n",
        "  st1 = b[0] + b[1] + a[2:]\n",
        "  st2 = a[0] + a[1] + b[2:]\n",
        "  return st1 + \" \" + st2\n",
        "print (mix_up(\"do\",\"di\"))\n"
      ],
      "execution_count": 20,
      "outputs": [
        {
          "output_type": "stream",
          "text": [
            "di do\n"
          ],
          "name": "stdout"
        }
      ]
    },
    {
      "cell_type": "code",
      "metadata": {
        "id": "2CGbPrghn8Ip",
        "colab_type": "code",
        "colab": {}
      },
      "source": [
        "# Provided simple test() function used in main() to print\n",
        "# what each function returns vs. what it's supposed to return.\n",
        "def test(got, expected):\n",
        "  if got == expected:\n",
        "    prefix = ' OK '\n",
        "  else:\n",
        "    prefix = '  X '\n",
        "  print ('%s got: %s expected: %s' % (prefix, repr(got), repr(expected)))\n",
        "\n",
        "\n"
      ],
      "execution_count": 0,
      "outputs": []
    },
    {
      "cell_type": "code",
      "metadata": {
        "id": "ntZP0V5Kn8Ir",
        "colab_type": "code",
        "colab": {
          "base_uri": "https://localhost:8080/",
          "height": 408
        },
        "outputId": "9b2bfcf1-4df9-4a94-b541-bafbc0d17a8f"
      },
      "source": [
        "# Provided main() calls the above functions with interesting inputs,\n",
        "# using test() to check if each result is correct or not.\n",
        "\n",
        "print ('donuts')\n",
        "# Each line calls donuts, compares its result to the expected for that call.\n",
        "test(donuts(4), 'Number of donuts: 4')\n",
        "test(donuts(9), 'Number of donuts: 9')\n",
        "test(donuts(10), 'Number of donuts: many')\n",
        "test(donuts(99), 'Number of donuts: many')\n",
        "\n",
        "print ()\n",
        "print ('both_ends')\n",
        "test(both_ends('spring'), 'spng')\n",
        "test(both_ends('Hello'), 'Helo')\n",
        "test(both_ends('a'), '')\n",
        "test(both_ends('xyz'), 'xyyz')\n",
        "\n",
        "\n",
        "print()\n",
        "print ('fix_start')\n",
        "test(fix_start('babble'), 'ba**le')\n",
        "test(fix_start('aardvark'), 'a*rdv*rk')\n",
        "test(fix_start('google'), 'goo*le')\n",
        "test(fix_start('donut'), 'donut')\n",
        "\n",
        "print()\n",
        "print ('mix_up')\n",
        "test(mix_up('mix', 'pod'), 'pox mid')\n",
        "test(mix_up('dog', 'dinner'), 'dig donner')\n",
        "test(mix_up('gnash', 'sport'), 'spash gnort')\n",
        "test(mix_up('pezzy', 'firm'), 'fizzy perm')"
      ],
      "execution_count": 26,
      "outputs": [
        {
          "output_type": "stream",
          "text": [
            "donuts\n",
            " OK  got: 'Number of donuts: 4' expected: 'Number of donuts: 4'\n",
            " OK  got: 'Number of donuts: 9' expected: 'Number of donuts: 9'\n",
            " OK  got: 'Number of donuts: many' expected: 'Number of donuts: many'\n",
            " OK  got: 'Number of donuts: many' expected: 'Number of donuts: many'\n",
            "\n",
            "both_ends\n",
            " OK  got: 'spng' expected: 'spng'\n",
            " OK  got: 'Helo' expected: 'Helo'\n",
            " OK  got: '' expected: ''\n",
            " OK  got: 'xyyz' expected: 'xyyz'\n",
            "\n",
            "fix_start\n",
            " OK  got: 'ba**le' expected: 'ba**le'\n",
            " OK  got: 'a*rdv*rk' expected: 'a*rdv*rk'\n",
            " OK  got: 'goo*le' expected: 'goo*le'\n",
            " OK  got: 'donut' expected: 'donut'\n",
            "\n",
            "mix_up\n",
            " OK  got: 'pox mid' expected: 'pox mid'\n",
            " OK  got: 'dig donner' expected: 'dig donner'\n",
            " OK  got: 'spash gnort' expected: 'spash gnort'\n",
            " OK  got: 'fizzy perm' expected: 'fizzy perm'\n"
          ],
          "name": "stdout"
        }
      ]
    }
  ]
}
{
  "nbformat": 4,
  "nbformat_minor": 0,
  "metadata": {
    "kernelspec": {
      "display_name": "Python [Root]",
      "language": "python",
      "name": "Python [Root]"
    },
    "language_info": {
      "codemirror_mode": {
        "name": "ipython",
        "version": 2
      },
      "file_extension": ".py",
      "mimetype": "text/x-python",
      "name": "python",
      "nbconvert_exporter": "python",
      "pygments_lexer": "ipython2",
      "version": "2.7.12"
    },
    "colab": {
      "name": "list1.ipynb",
      "provenance": [],
      "collapsed_sections": [],
      "include_colab_link": true
    }
  },
  "cells": [
    {
      "cell_type": "markdown",
      "metadata": {
        "id": "view-in-github",
        "colab_type": "text"
      },
      "source": [
        "<a href=\"https://colab.research.google.com/github/shaheerhas/turbo-memory/blob/master/list1.ipynb\" target=\"_parent\"><img src=\"https://colab.research.google.com/assets/colab-badge.svg\" alt=\"Open In Colab\"/></a>"
      ]
    },
    {
      "cell_type": "code",
      "metadata": {
        "id": "YOKKWTfuw1Py",
        "colab_type": "code",
        "outputId": "4acf1d05-fdac-423d-b4be-3290e632148b",
        "colab": {
          "base_uri": "https://localhost:8080/",
          "height": 34
        }
      },
      "source": [
        "# In[1]:\n",
        "# A. match_ends\n",
        "# Given a list of strings, return the count of the number of\n",
        "# strings where the string length is 2 or more and the first\n",
        "# and last chars of the string are the same.\n",
        "# Note: python does not have a ++ operator, but += works.\n",
        "\n",
        "def match_ends(words):\n",
        "  # +++your code here+++\n",
        "  i=0\n",
        "  j=0\n",
        "  while i<len(words):\n",
        "    if len(words[i])>=2 and words[i][0] == words [i][len(words[i])-1]:     \n",
        "      j+=1\n",
        "    i+=1\n",
        "\n",
        "\n",
        "  return j\n",
        "words= [\"hey\",\"i know whats up\",\"h\",\"hh\",\"hah\"]\n",
        "match_ends(words)\n"
      ],
      "execution_count": 6,
      "outputs": [
        {
          "output_type": "execute_result",
          "data": {
            "text/plain": [
              "2"
            ]
          },
          "metadata": {
            "tags": []
          },
          "execution_count": 6
        }
      ]
    },
    {
      "cell_type": "code",
      "metadata": {
        "id": "hm1-Ir5ew1P7",
        "colab_type": "code",
        "outputId": "48ee16f8-96f6-42b3-d6ec-95378a3fed4d",
        "colab": {
          "base_uri": "https://localhost:8080/",
          "height": 34
        }
      },
      "source": [
        "# B. front_x\n",
        "# Given a list of strings, return a list with the strings\n",
        "# in sorted order, except group all the strings that begin with 'x' first.\n",
        "# e.g. ['mix', 'xyz', 'apple', 'xanadu', 'aardvark'] yields\n",
        "# ['xanadu', 'xyz', 'aardvark', 'apple', 'mix']\n",
        "# Hint: this can be done by making 2 lists and sorting each of them\n",
        "# before combining them.\n",
        "def front_x(words):\n",
        "  # +++your code here+++\n",
        "  i=0\n",
        "  temp = []\n",
        "  l = len(words)\n",
        "  temp1 =[]\n",
        "  while i<l:\n",
        "    \n",
        "    if(words[i][0]=='x'):\n",
        "      temp.append(words[i])\n",
        "      i+=1\n",
        "    else:\n",
        "      temp1.append(words[i])\n",
        "      i+=1\n",
        "  temp.sort()\n",
        "  temp1.sort()\n",
        "  \n",
        "  return temp + temp1\n",
        "\n",
        "words =  ['mix', 'xyz', 'apple','xaaasx' ,'xanadu', 'aardvark','hey','xassdw']\n",
        "\n",
        "print (front_x(words))\n"
      ],
      "execution_count": 4,
      "outputs": [
        {
          "output_type": "stream",
          "text": [
            "['xaaasx', 'xanadu', 'xassdw', 'xyz', 'aardvark', 'apple', 'hey', 'mix']\n"
          ],
          "name": "stdout"
        }
      ]
    },
    {
      "cell_type": "code",
      "metadata": {
        "id": "gVQvKr6CftJD",
        "colab_type": "code",
        "colab": {}
      },
      "source": [
        ""
      ],
      "execution_count": 0,
      "outputs": []
    },
    {
      "cell_type": "code",
      "metadata": {
        "id": "lAUY3D-kw1QC",
        "colab_type": "code",
        "outputId": "398cdb31-378b-4b59-a543-e6981c18f8d5",
        "colab": {
          "base_uri": "https://localhost:8080/",
          "height": 34
        }
      },
      "source": [
        "# C. sort_last\n",
        "# Given a list of non-empty tuples, return a list sorted in increasing\n",
        "# order by the last element in each tuple.\n",
        "# e.g. [(1, 7), (1, 3), (3, 4, 5), (2, 2)] yields\n",
        "# [(2, 2), (1, 3), (3, 4, 5), (1, 7)]\n",
        "# Hint: use a custom key= function to extract the last element form each tuple.\n",
        "def last(list1):\n",
        "  return list1[-1]\n",
        "def sort_last(tuples):\n",
        "  # +++your code here+++\n",
        "  return sorted(tuples,key=last)\n",
        "  #return sorted(tuples,key=tuples[i][len(tuples)-1])\n",
        "tuples =[(1, 7), (1, 3), (3, 4, 5), (2, 2)] \n",
        "print (sort_last(tuples))"
      ],
      "execution_count": 1,
      "outputs": [
        {
          "output_type": "stream",
          "text": [
            "[(2, 2), (1, 3), (3, 4, 5), (1, 7)]\n"
          ],
          "name": "stdout"
        }
      ]
    },
    {
      "cell_type": "code",
      "metadata": {
        "id": "Wiho7SP_w1QI",
        "colab_type": "code",
        "colab": {}
      },
      "source": [
        "# Simple provided test() function used in main() to print\n",
        "# what each function returns vs. what it's supposed to return.\n",
        "def test(got, expected):\n",
        "  if got == expected:\n",
        "    prefix = ' OK '\n",
        "  else:\n",
        "    prefix = '  X '\n",
        "  print('%s got: %s expected: %s' % (prefix, repr(got), repr(expected)))\n",
        "\n"
      ],
      "execution_count": 0,
      "outputs": []
    },
    {
      "cell_type": "code",
      "metadata": {
        "id": "ajL05Xihw1QO",
        "colab_type": "code",
        "outputId": "40aae524-05a8-404c-af08-63ac991377cb",
        "colab": {
          "base_uri": "https://localhost:8080/",
          "height": 221
        }
      },
      "source": [
        "# Calls the above functions with interesting inputs.\n",
        "\n",
        "print ('match_ends')\n",
        "test(match_ends(['aba', 'xyz', 'aa', 'x', 'bbb']), 3)\n",
        "test(match_ends(['', 'x', 'xy', 'xyx', 'xx']), 2)\n",
        "test(match_ends(['aaa', 'be', 'abc', 'hello']), 1)\n",
        "\n",
        "#print\n",
        "print ('front_x')\n",
        "test(front_x(['bbb', 'ccc', 'axx', 'xzz', 'xaa']),\n",
        "     ['xaa', 'xzz', 'axx', 'bbb', 'ccc'])\n",
        "test(front_x(['ccc', 'bbb', 'aaa', 'xcc', 'xaa']),\n",
        "     ['xaa', 'xcc', 'aaa', 'bbb', 'ccc'])\n",
        "test(front_x(['mix', 'xyz', 'apple', 'xanadu', 'aardvark']),\n",
        "     ['xanadu', 'xyz', 'aardvark', 'apple', 'mix'])\n",
        "\n",
        "     \n",
        "#print\n",
        "print ('sort_last')\n",
        "test(sort_last([(1, 3), (3, 2), (2, 1)]),\n",
        "     [(2, 1), (3, 2), (1, 3)])\n",
        "test(sort_last([(2, 3), (1, 2), (3, 1)]),\n",
        "     [(3, 1), (1, 2), (2, 3)])\n",
        "test(sort_last([(1, 7), (1, 3), (3, 4, 5), (2, 2)]),\n",
        "     [(2, 2), (1, 3), (3, 4, 5), (1, 7)])"
      ],
      "execution_count": 7,
      "outputs": [
        {
          "output_type": "stream",
          "text": [
            "match_ends\n",
            " OK  got: 3 expected: 3\n",
            " OK  got: 2 expected: 2\n",
            " OK  got: 1 expected: 1\n",
            "front_x\n",
            " OK  got: ['xaa', 'xzz', 'axx', 'bbb', 'ccc'] expected: ['xaa', 'xzz', 'axx', 'bbb', 'ccc']\n",
            " OK  got: ['xaa', 'xcc', 'aaa', 'bbb', 'ccc'] expected: ['xaa', 'xcc', 'aaa', 'bbb', 'ccc']\n",
            " OK  got: ['xanadu', 'xyz', 'aardvark', 'apple', 'mix'] expected: ['xanadu', 'xyz', 'aardvark', 'apple', 'mix']\n",
            "sort_last\n",
            " OK  got: [(2, 1), (3, 2), (1, 3)] expected: [(2, 1), (3, 2), (1, 3)]\n",
            " OK  got: [(3, 1), (1, 2), (2, 3)] expected: [(3, 1), (1, 2), (2, 3)]\n",
            " OK  got: [(2, 2), (1, 3), (3, 4, 5), (1, 7)] expected: [(2, 2), (1, 3), (3, 4, 5), (1, 7)]\n"
          ],
          "name": "stdout"
        }
      ]
    }
  ]
}